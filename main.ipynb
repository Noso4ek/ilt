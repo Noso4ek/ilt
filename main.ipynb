{
 "cells": [
  {
   "cell_type": "code",
   "execution_count": 1,
   "metadata": {
    "colab": {},
    "colab_type": "code",
    "executionInfo": {
     "elapsed": 823,
     "status": "ok",
     "timestamp": 1593205460870,
     "user": {
      "displayName": "Антон Васильев",
      "photoUrl": "",
      "userId": "15568960775264608540"
     },
     "user_tz": -180
    },
    "id": "k_tj3y9uYZTm"
   },
   "outputs": [],
   "source": [
    "from ipywidgets import interact, interactive, fixed, interact_manual, HBox, VBox, Label\n",
    "import ipywidgets as widgets\n",
    "import matplotlib.pyplot as plt\n",
    "import numpy as np\n",
    "%matplotlib inline"
   ]
  },
  {
   "cell_type": "code",
   "execution_count": 2,
   "metadata": {},
   "outputs": [
    {
     "data": {
      "text/plain": [
       "[<matplotlib.lines.Line2D at 0x7f96a7d2b890>]"
      ]
     },
     "execution_count": 2,
     "metadata": {},
     "output_type": "execute_result"
    },
    {
     "data": {
      "image/png": "[encoded data removed]",
      "text/plain": [
       "<Figure size 432x288 with 1 Axes>"
      ]
     },
     "metadata": {
      "needs_background": "light"
     },
     "output_type": "display_data"
    }
   ],
   "source": [
    "s = np.arange(0.15, 14.7, 0.15) # s domain\n",
    "\n",
    "tau = [0.3, 8] # decay rates, 1/s\n",
    "\n",
    "C = 0\n",
    "C = C + 15*np.exp(-tau[0]*s) #+ 300\n",
    "C = C + 45*np.exp(-tau[1]*s)\n",
    "C = C + np.random.normal(1,1,len(C))*2e-1 # adding noize\n",
    "fig = plt.figure()\n",
    "plt.plot(s, C, 'b-')"
   ]
  },
  {
   "cell_type": "code",
   "execution_count": 3,
   "metadata": {},
   "outputs": [],
   "source": [
    "def L1(s, Y, bound, Nz, alpha, iterations = 50000):\n",
    "    \n",
    "    \"\"\"Returns Inverse Laplase Transform of F(s) as Nz lenght vector\n",
    "     using L1 regularization method  dQ/db = \"\"\"\n",
    "    tmin = bound[0]\n",
    "    tlim = bound[1]\n",
    "    NF   = len(s)\n",
    "    Nf   = Nz # \n",
    "    t    = tmin*10**(np.linspace(0, 40*np.log10(tlim/tmin), Nf)*0.025) #t domain with exp density points\n",
    "    dt   = np.diff(t)\n",
    "\n",
    "    X    = np.zeros([NF, Nf], dtype = float)\n",
    "    for i in range(NF-1):\n",
    "            for j in range(Nf-1):\n",
    "                x1     = -s[i]*(t[j] - dt[j])\n",
    "                x2     = -s[i]*(t[j] + dt[j])\n",
    "                X[i,j] = (np.exp(x1) + np.exp(x2))*dt[j]\n",
    "    np.shape(X)\n",
    "    \n",
    "    beta   = np.random.randn(Nf)/np.sqrt(Nf) ## initiating weights\n",
    "    learning_rate = 0.09\n",
    "    l1     = alpha\n",
    "    #costs = []\n",
    "    for k in range(iterations):\n",
    "        Yhat  = X@beta\n",
    "        delta = Yhat - Y\n",
    "        beta  = beta - learning_rate*(X.T@delta + l1*np.sign(beta))\n",
    "        #mse   = delta.dot(delta)/NF\n",
    "        #costs.append(mse)\n",
    "    F = X@beta    \n",
    "    #res_norm = np.linalg.norm(Y - X@beta)\n",
    "    #sol_norm = np.linalg.norm(beta)\n",
    "    \n",
    "    return t, beta, F#, res_norm, sol_norm\n"
   ]
  },
  {
   "cell_type": "code",
   "execution_count": 4,
   "metadata": {},
   "outputs": [],
   "source": [
    "def L2(s, Y, bound, Nz, alpha, iterations = 50000):\n",
    "    \"\"\"Returns Inverse Laplase Transform of F(s) as Nz lenght vector\n",
    "     using L1 regularization method  dQ/db = \"\"\"\n",
    "    tmin = bound[0]\n",
    "    tlim = bound[1]\n",
    "    NF   = len(s)\n",
    "    Nf   = Nz # \n",
    "    t    = tmin*10**(np.linspace(0, 40*np.log10(tlim/tmin), Nf)*0.025) #t domain with exp density points\n",
    "    dt   = np.diff(t)\n",
    "\n",
    "    X    = np.zeros([NF, Nf], dtype = float)\n",
    "    for i in range(NF-1):\n",
    "            for j in range(Nf-1):\n",
    "                x1     = -s[i]*(t[j] - dt[j])\n",
    "                x2     = -s[i]*(t[j] + dt[j])\n",
    "                X[i,j] = (np.exp(x1) + np.exp(x2))*dt[j]\n",
    "    np.shape(X)\n",
    "    \n",
    "    beta   = np.random.randn(Nf)/np.sqrt(Nf) ## initiating weights\n",
    "    learning_rate = 0.09\n",
    "    l2     = alpha\n",
    "    #costs = []\n",
    "    for k in range(iterations):\n",
    "        Yhat  = X@beta\n",
    "        delta = Yhat - Y\n",
    "        beta  = beta - learning_rate*(X.T@delta + l2*2*beta)\n",
    "        mse   = delta.dot(delta)/NF\n",
    "        #costs.append(mse)\n",
    "    F = X@beta    \n",
    "    #res_norm = np.linalg.norm(Y - X@beta)\n",
    "    #sol_norm = np.linalg.norm(beta)\n",
    "    \n",
    "    return t, beta, F#, res_norm, sol_norm\n",
    "\n"
   ]
  },
  {
   "cell_type": "code",
   "execution_count": 5,
   "metadata": {
    "colab": {},
    "colab_type": "code",
    "id": "Xk83aYqUaEDM"
   },
   "outputs": [],
   "source": [
    "def L1L2(s, Y, bound, Nz, alpha1, alpha2, iterations = 50000):\n",
    "    \"\"\"Returns Inverse Laplase Transform of F(s) as Nz lenght vector\n",
    "     using L1 regularization method  dQ/db = \"\"\"\n",
    "    tmin = bound[0]\n",
    "    tlim = bound[1]\n",
    "    NF   = len(s)\n",
    "    Nf   = Nz # \n",
    "    t    = tmin*10**(np.linspace(0, 40*np.log10(tlim/tmin), Nf)*0.025) #t domain with exp density points\n",
    "    dt   = np.diff(t)\n",
    "\n",
    "    X    = np.zeros([NF, Nf], dtype = float)\n",
    "    for i in range(NF-1):\n",
    "            for j in range(Nf-1):\n",
    "                x1     = -s[i]*(t[j] - dt[j])\n",
    "                x2     = -s[i]*(t[j] + dt[j])\n",
    "                X[i,j] = (np.exp(x1) + np.exp(x2))*dt[j]\n",
    "    np.shape(X)\n",
    "    \n",
    "    beta   = np.random.randn(Nf)/np.sqrt(Nf) ## initiating weights\n",
    "    learning_rate = 0.09\n",
    "    l1     = alpha1\n",
    "    l2     = alpha2\n",
    "    #costs = []\n",
    "    for k in range(iterations):\n",
    "        Yhat  = X@beta\n",
    "        delta = Yhat - Y\n",
    "        beta  = beta - learning_rate*(X.T@delta + l1*np.sign(beta) + l2*2*beta)\n",
    "        mse   = delta.dot(delta)/NF\n",
    "        #costs.append(mse)\n",
    "    F = X@beta    \n",
    "    #res_norm = np.linalg.norm(Y - X@beta)\n",
    "    #sol_norm = np.linalg.norm(beta)\n",
    "    \n",
    "    return t, beta, F#, res_norm, sol_norm\n",
    "\n"
   ]
  },
  {
   "cell_type": "code",
   "execution_count": null,
   "metadata": {},
   "outputs": [],
   "source": []
  },
  {
   "cell_type": "code",
   "execution_count": 6,
   "metadata": {},
   "outputs": [
    {
     "data": {
      "text/plain": [
       "[<matplotlib.lines.Line2D at 0x7f96a86a2910>]"
      ]
     },
     "execution_count": 6,
     "metadata": {},
     "output_type": "execute_result"
    },
    {
     "data": {
      "image/png": "[encoded data removed]",
      "text/plain": [
       "<Figure size 432x288 with 1 Axes>"
      ]
     },
     "metadata": {
      "needs_background": "light"
     },
     "output_type": "display_data"
    }
   ],
   "source": [
    "from ilt import SVD\n",
    "a, b, c = SVD(s, C, [1E-2, 1E2], 100, 0.1)\n",
    "plt.plot(c)\n",
    "#plt.plot(C)"
   ]
  },
  {
   "cell_type": "code",
   "execution_count": null,
   "metadata": {
    "colab": {},
    "colab_type": "code",
    "id": "eTfSCDZfaDYD"
   },
   "outputs": [],
   "source": []
  },
  {
   "cell_type": "code",
   "execution_count": 7,
   "metadata": {
    "colab": {},
    "colab_type": "code",
    "id": "B8ky-aciaEUK"
   },
   "outputs": [],
   "source": [
    "lmin = 1E-10\n",
    "llim = 1E1\n",
    "L = 100\n",
    "lmbd_L1 = np.array([1E-1, 0.5E-1])\n",
    "lmbd_L2 = lmin*10**(np.linspace(0, 40*np.log10(llim/lmin), L)*0.025)  # reg. parameter values\n",
    "\n",
    "Nz = 100"
   ]
  },
  {
   "cell_type": "code",
   "execution_count": null,
   "metadata": {
    "colab": {},
    "colab_type": "code",
    "executionInfo": {
     "elapsed": 807,
     "status": "ok",
     "timestamp": 1593205463935,
     "user": {
      "displayName": "Антон Васильев",
      "photoUrl": "",
      "userId": "15568960775264608540"
     },
     "user_tz": -180
    },
    "id": "1Y7nWOyWaEnw"
   },
   "outputs": [],
   "source": []
  },
  {
   "cell_type": "code",
   "execution_count": null,
   "metadata": {
    "colab": {
     "base_uri": "https://localhost:8080/",
     "height": 164,
     "referenced_widgets": [
      "3aff477035e840ffafeb7f56bc23ab58",
      "8fc06a24e56149d692e9ff49a9af5a72",
      "f4d8a85b20d641578b74462aac426dc9",
      "2ff6b26a2f744257a6493ea22e7f912d",
      "262ba61c464646af80d3c2ea5d52c94f",
      "0f967666cbd54064b5fa3a75befe666f",
      "eb5a59b53e7f4b1b8bea08cb29e43329",
      "0427e4b60cdd4d299ff0bab8c8b99cc6",
      "aee85e3954ab4fd9aacb70f5ec36e4fe",
      "03c7aedcfd3941528d063db0888fe9af",
      "44491945d80542659ce507353a2a459c",
      "7156371aba114014bcf7eb9ffc879837",
      "e891b7a223ca45199b062c6773cb8854"
     ]
    },
    "colab_type": "code",
    "executionInfo": {
     "elapsed": 745,
     "status": "ok",
     "timestamp": 1593206072881,
     "user": {
      "displayName": "Антон Васильев",
      "photoUrl": "",
      "userId": "15568960775264608540"
     },
     "user_tz": -180
    },
    "id": "rXkFpBowYztP",
    "outputId": "8112612c-2a75-4f20-d7a3-69d9ee454e48"
   },
   "outputs": [],
   "source": []
  },
  {
   "cell_type": "code",
   "execution_count": 43,
   "metadata": {},
   "outputs": [],
   "source": [
    "def plot_data(s, F, data, T, Index):\n",
    "    \"\"\"plots stuff\"\"\"\n",
    "    \n",
    "    fig = plt.figure(figsize = (9.5, 6))\n",
    "    ax  = fig.add_subplot(211)\n",
    "    ax.set_title(r'Temperature %.2f K'%T[Index])\n",
    "    ax.set_ylabel(r'Amplitude, arb. units')\n",
    "    ax.set_xlabel(r'Emission rate, $s^{-1}$')\n",
    "    ax.set_xscale('log')\n",
    "    ax.grid(True, which = \"both\", ls = \"-\")\n",
    "    #print(data[:,2])\n",
    "    for i, e in enumerate(data[:,-1]):\n",
    "        if e == 'L1':\n",
    "            ax.plot(data[i][0], data[i][1], 'r-', label = e)\n",
    "        elif e == 'L2':\n",
    "            ax.plot(data[i][0], data[i][1], 'b-', label = e)\n",
    "        elif e == 'L1+L2':\n",
    "            ax.plot(data[i][0], data[i][1], 'm-', label = e)\n",
    "        elif e == 'SVD':\n",
    "            ax.plot(data[i][0], data[i][1], 'c-', label = e)\n",
    "    ax.legend()\n",
    "    \n",
    "    \n",
    "    ay = fig.add_subplot(223)\n",
    "    ay.set_xlabel(r'Residual norm, $\\lg{\\|A x_{\\alpha}-b\\|}$')\n",
    "    ay.set_ylabel(r'Solution norm, $\\lg{\\|L x_{\\alpha}\\|}$')\n",
    "    \n",
    "    az = fig.add_subplot(224)\n",
    "    az.set_ylabel(r'Transient , arb. units')\n",
    "    az.set_xlabel(r'Time $t$, $s$')\n",
    "    az.grid(True, which = \"both\", ls = \"-\")\n",
    "    F = np.abs(F)\n",
    "    F = F - min(F)\n",
    "    F = F/max(F)\n",
    "    az.plot(s, F, 'k-', label = 'Original')\n",
    "    az.set_xscale('log')\n",
    "    for i, e in enumerate(data[:,-1]):\n",
    "        if e == 'L1':\n",
    "            d = data[i][2]\n",
    "            d = np.abs(d)\n",
    "            d = d - min(d)\n",
    "            d = d/max(d)\n",
    "            az.plot(s, d, 'r-', label = e)\n",
    "        elif e == 'L2':\n",
    "            d = data[i][2]\n",
    "            d = np.abs(d)\n",
    "            d = d - min(d)\n",
    "            d = d/max(d)\n",
    "            az.plot(s, d, 'b-', label = e)\n",
    "        elif e == 'L1+L2':\n",
    "            d = data[i][2]\n",
    "            d = np.abs(d)\n",
    "            d = d - min(d)\n",
    "            d = d/max(d)\n",
    "            az.plot(s, d, 'm-', label = e)\n",
    "        elif e == 'SVD':\n",
    "            d = data[i][2]\n",
    "            d = np.abs(d)\n",
    "            d = d - min(d)\n",
    "            d = d/max(d)\n",
    "            az.plot(s, d, 'c-', label = e)\n",
    "    az.legend()\n",
    "    \n",
    "    \n",
    "    plt.tight_layout()"
   ]
  },
  {
   "cell_type": "code",
   "execution_count": 44,
   "metadata": {
    "colab": {},
    "colab_type": "code",
    "executionInfo": {
     "elapsed": 960,
     "status": "ok",
     "timestamp": 1593205334616,
     "user": {
      "displayName": "Антон Васильев",
      "photoUrl": "",
      "userId": "15568960775264608540"
     },
     "user_tz": -180
    },
    "id": "5hmA-JH5b9XS"
   },
   "outputs": [],
   "source": [
    "def laplace(s, F, Nz, Reg_L1, Reg_L2, Methods):\n",
    "    \n",
    "    data = []\n",
    "    \n",
    "    for i in Methods: \n",
    "        if i == 'L1':\n",
    "            t, f, F_hat = L1(s, F, [1E-2, 1E2], Nz, Reg_L1)\n",
    "            data.append([t, f, F_hat, 'L1'])\n",
    "            \n",
    "        elif i == 'L2':\n",
    "            t, f, F_hat = L2(s, F, [1E-2, 1E2], Nz, Reg_L2)\n",
    "            data.append([t, f, F_hat, 'L2'])\n",
    "            \n",
    "        elif i == 'L1+L2':\n",
    "            t, f, F_hat = L1L2(s, F, [1E-2, 1E2], Nz, Reg_L1, Reg_L2)\n",
    "            data.append([t, f, F_hat, 'L1+L2'])\n",
    "            \n",
    "        elif i == 'SVD':\n",
    "            t, f, F_hat = SVD(s, F, [1E-2, 1E2], Nz, Reg_L1)\n",
    "            data.append([t, f, F_hat, 'SVD'])\n",
    "\n",
    "    data = np.asarray(data)\n",
    "    return data"
   ]
  },
  {
   "cell_type": "code",
   "execution_count": 45,
   "metadata": {},
   "outputs": [],
   "source": [
    "def read_file(Path):\n",
    "    ##\n",
    "    path = 'data.DLTS'\n",
    "    txt  = np.genfromtxt(path, delimiter='\\t')\n",
    "    T    = txt[0:,0]\n",
    "    cut  = len(T)\n",
    "\n",
    "    C    = []\n",
    "    time = []\n",
    "    for i in range(0,cut):\n",
    "        C.append(txt[i][2:-3])\n",
    "\n",
    "    for i in range(0, len(C[0])):\n",
    "        time.append(0.15*(i+1))\n",
    "    C    = np.asarray(C)\n",
    "    time = np.asarray(time)\n",
    "    \n",
    "    #print(T)\n",
    "    \n",
    "    return time, C, T\n"
   ]
  },
  {
   "cell_type": "code",
   "execution_count": 46,
   "metadata": {},
   "outputs": [],
   "source": [
    "def demo(Index, Nz, Reg_L1, Reg_L2, Methods, Plot, Residuals, Heatplot):\n",
    "    \n",
    "    s, C, T = read_file('0')\n",
    "    cut = len(T)\n",
    "    cus = len(C[0])\n",
    "    \n",
    "    data = laplace(s, C[Index] - C[Index][-1], Nz, Reg_L1, Reg_L2, Methods)\n",
    "    if Plot:\n",
    "        plot_data(s, C[Index] - C[Index][-1], data, T, Index)\n",
    "    if Residuals:\n",
    "        print('Plotting L-curve...')\n",
    "        print(Residuals)\n",
    "    if Heatplot:\n",
    "        print('Plotting Heatplot...')\n",
    "        hp(s, C, T, Methods, Index, Reg_L1, Reg_L2)\n",
    "        "
   ]
  },
  {
   "cell_type": "code",
   "execution_count": 47,
   "metadata": {},
   "outputs": [],
   "source": [
    "def hp(s, C, T, Methods, Index, Reg_L1, Reg_L2):\n",
    "    \"\"\"Returns heatmap and returns files for Cryo PC\"\"\"\n",
    "    from matplotlib import cm\n",
    "    \n",
    "    cut = len(T)\n",
    "    cus = len(C[0])\n",
    "    \n",
    "    if len(Methods) > 1:\n",
    "        print('Choose only one Method')\n",
    "        Methods = Methods[0]\n",
    "    \n",
    "    \n",
    "    XZ = []\n",
    "    YZ = []\n",
    "    ZZ = []\n",
    "    \n",
    "    for M in Methods: \n",
    "        if M == 'L1':\n",
    "            for i in range(0, cut):\n",
    "                YZ.append(np.ones(cus-1)*T[i])\n",
    "                TEMPE, TEMPX, a = L1(s, C[i] - C[i][-1], [1E-2, 1E2], Nz, Reg_L1)\n",
    "                XZ.append(TEMPE)\n",
    "                ZZ.append(TEMPX)\n",
    "        elif M == 'L2':\n",
    "            for i in range(0, cut):\n",
    "                YZ.append(np.ones(cus-1)*T[i])\n",
    "                TEMPE, TEMPX, a = L2(s, C[i] - C[i][-1], [1E-2, 1E2], Nz, Reg_L2)\n",
    "                XZ.append(TEMPE)\n",
    "                ZZ.append(TEMPX)\n",
    "        elif M == 'L1+L2':\n",
    "            for i in range(0, cut):\n",
    "                YZ.append(np.ones(cus-1)*T[i])\n",
    "                TEMPE, TEMPX, a = L1L2(s, C[i] - C[i][-1], [1E-2, 1E2], Nz, Reg_L1, Reg_L2)\n",
    "                XZ.append(TEMPE)\n",
    "                ZZ.append(TEMPX)\n",
    "        elif M == 'SVD':\n",
    "            for i in range(0, cut):\n",
    "                YZ.append(np.ones(cus-1)*T[i])\n",
    "                TEMPE, TEMPX, a = SVD(s, C[i], [1E-2, 1E2], Nz, Reg_L1)\n",
    "                XZ.append(TEMPE)\n",
    "                ZZ.append(TEMPX)\n",
    "                \n",
    "\n",
    "    XZ = np.asarray(XZ)\n",
    "    YZ = np.asarray(YZ)\n",
    "    ZZ = np.asarray(ZZ)\n",
    "    \n",
    "    fig = plt.figure(figsize = (10,4.5))\n",
    "    a2d = fig.add_subplot(121)\n",
    "\n",
    "    cmap = cm.bwr\n",
    "    v = np.amax(np.abs(ZZ))/50\n",
    "    normalize = plt.Normalize(vmin = -v, vmax = v)\n",
    "\n",
    "    extent = [-2, 2, (T[-1]), (T[0])]\n",
    "    a2d.set_xlabel(r'Emission $\\log_{10}{(e)}$')\n",
    "    a2d.set_title(Methods)\n",
    "    a2d.set_ylabel('Temperature T, K')\n",
    "    a2d.axvline(x = np.log10(XZ[0][Index]), c = 'k')\n",
    "    #a2d.grid(True)\n",
    "\n",
    "\n",
    "\n",
    "    pos = a2d.imshow(ZZ[::1,::1], cmap = cmap,  \n",
    "               norm = normalize, interpolation = 'none',\n",
    "               aspect = 'auto', extent = extent)\n",
    "    plt.colorbar(pos)\n",
    "\n",
    "\n",
    "    plt.xticks(np.arange(np.log10(XZ.min()),np.log10(XZ.max()),0.9999))\n",
    "    plt.yticks(np.arange((T.min()),T.max(),20.0))\n",
    "    \n",
    "    ad = fig.add_subplot(122)\n",
    "    ad.plot(T, ZZ[:,Index], c = 'k')\n",
    "    #ad.legend()\n",
    "\n",
    "    plt.show()\n",
    "    plt.tight_layout() "
   ]
  },
  {
   "cell_type": "code",
   "execution_count": 48,
   "metadata": {},
   "outputs": [],
   "source": [
    "#from filebrowser import FileBrowser\n",
    "#File = FileBrowser()\n",
    "#File.widget()"
   ]
  },
  {
   "cell_type": "code",
   "execution_count": 49,
   "metadata": {},
   "outputs": [],
   "source": [
    "#File.path"
   ]
  },
  {
   "cell_type": "code",
   "execution_count": 50,
   "metadata": {},
   "outputs": [],
   "source": [
    "from ipyfilechooser import FileChooser\n",
    "\n",
    "\n",
    "def interface(File):\n",
    "    \n",
    "    t, C, T = File\n",
    "    \n",
    "    cut = len(T) - 1\n",
    "    \n",
    "    Index = widgets.IntSlider(\n",
    "        value=1,\n",
    "        min=0, # max exponent of base\n",
    "        max=cut, # min exponent of base\n",
    "        step=1, # exponent step\n",
    "        description='')\n",
    "    \n",
    "    Methods = widgets.SelectMultiple(\n",
    "        options = ['L1', 'L2', 'L1+L2', 'SVD'],\n",
    "        value   = ['L1'],\n",
    "        #rows    = 10,\n",
    "        description = 'Methods:',\n",
    "        disabled = False)\n",
    "\n",
    "    Nz = widgets.IntText(\n",
    "        value=100,\n",
    "        description=r'$N_f=$',\n",
    "        disabled=False)\n",
    "\n",
    "    Reg_L1 = widgets.FloatLogSlider(\n",
    "        value=0.1,\n",
    "        base=10,\n",
    "        min=-5, # max exponent of base\n",
    "        max=0.5, # min exponent of base\n",
    "        step=0.2, # exponent step\n",
    "        description=r'L1: $\\lambda_1$')\n",
    "\n",
    "    Reg_L2 = widgets.FloatLogSlider(\n",
    "        value=1E-3,\n",
    "        base=10,\n",
    "        min=-12, # max exponent of base\n",
    "        max=-2, # min exponent of base\n",
    "        step=0.2, # exponent step\n",
    "        description=r'L2: $\\lambda_2$')\n",
    "\n",
    "    Plot = widgets.Checkbox(\n",
    "        value = True,\n",
    "        description = 'Plot?',\n",
    "        disabled = False)\n",
    "\n",
    "    Residuals = widgets.ToggleButton(\n",
    "        value=False,\n",
    "        description='Plot L-curve',\n",
    "        disabled=False,\n",
    "        button_style='info', # 'success', 'info', 'warning', 'danger' or ''\n",
    "        tooltip='Plots L-curve to choose best value of regularization parameter of L2 reg. method',\n",
    "        icon='plus')\n",
    "    \n",
    "    Heatplot = widgets.ToggleButton(\n",
    "        value=False,\n",
    "        description='Plot heatplot',\n",
    "        disabled=False,\n",
    "        button_style='warning', # 'success', 'info', 'warning', 'danger' or ''\n",
    "        tooltip='Plots heatmap of data from choosed file',\n",
    "        icon='plus')\n",
    "    \n",
    "    \n",
    "    left_box = VBox([Methods])\n",
    "    centre_box = VBox([Nz, Reg_L1, Reg_L2])\n",
    "    right_box = VBox([Plot, Residuals, Heatplot])\n",
    "    ui = widgets.HBox([left_box, centre_box, right_box])\n",
    "    Slider = widgets.HBox([Label('Transient №'),Index])\n",
    "    out = widgets.interactive_output(demo, {'Index':Index, \n",
    "                                            'Nz':Nz, 'Reg_L1':Reg_L1, 'Reg_L2':Reg_L2, \n",
    "                                            'Methods':Methods, \n",
    "                                            'Plot':Plot, 'Residuals':Residuals,\n",
    "                                            'Heatplot': Heatplot})\n",
    "    display(ui, Slider, out)"
   ]
  },
  {
   "cell_type": "code",
   "execution_count": null,
   "metadata": {},
   "outputs": [],
   "source": []
  },
  {
   "cell_type": "code",
   "execution_count": 55,
   "metadata": {},
   "outputs": [
    {
     "data": {
      "application/vnd.jupyter.widget-view+json": {
       "model_id": "d8eee45cee4b47d6b0ad924a007c5f7f",
       "version_major": 2,
       "version_minor": 0
      },
      "text/plain": [
       "HBox(children=(VBox(children=(SelectMultiple(description='Methods:', index=(0,), options=('L1', 'L2', 'L1+L2',…"
      ]
     },
     "metadata": {},
     "output_type": "display_data"
    },
    {
     "data": {
      "application/vnd.jupyter.widget-view+json": {
       "model_id": "538fd006670b46cebc9178ac84a0f07e",
       "version_major": 2,
       "version_minor": 0
      },
      "text/plain": [
       "HBox(children=(Label(value='Transient №'), IntSlider(value=1, max=176)))"
      ]
     },
     "metadata": {},
     "output_type": "display_data"
    },
    {
     "data": {
      "application/vnd.jupyter.widget-view+json": {
       "model_id": "69b4c0d685f848aca916e0cd2a71feb2",
       "version_major": 2,
       "version_minor": 0
      },
      "text/plain": [
       "Output()"
      ]
     },
     "metadata": {},
     "output_type": "display_data"
    }
   ],
   "source": [
    "interface(read_file('0'))"
   ]
  },
  {
   "cell_type": "code",
   "execution_count": null,
   "metadata": {},
   "outputs": [],
   "source": []
  },
  {
   "cell_type": "code",
   "execution_count": null,
   "metadata": {},
   "outputs": [],
   "source": []
  }
 ],
 "metadata": {
  "colab": {
   "authorship_tag": "ABX9TyMZO+JKOVEUIerelTehpCim",
   "name": "main.ipynb",
   "provenance": []
  },
  "kernelspec": {
   "display_name": "Python 3",
   "language": "python",
   "name": "python3"
  },
  "language_info": {
   "codemirror_mode": {
    "name": "ipython",
    "version": 3
   },
   "file_extension": ".py",
   "mimetype": "text/x-python",
   "name": "python",
   "nbconvert_exporter": "python",
   "pygments_lexer": "ipython3",
   "version": "3.7.4"
  },
  "widgets": {
   "application/vnd.jupyter.widget-state+json": {
    "03c7aedcfd3941528d063db0888fe9af": {
     "model_module": "@jupyter-widgets/base",
     "model_name": "LayoutModel",
     "state": {
      "_model_module": "@jupyter-widgets/base",
      "_model_module_version": "1.2.0",
      "_model_name": "LayoutModel",
      "_view_count": null,
      "_view_module": "@jupyter-widgets/base",
      "_view_module_version": "1.2.0",
      "_view_name": "LayoutView",
      "align_content": null,
      "align_items": null,
      "align_self": null,
      "border": null,
      "bottom": null,
      "display": null,
      "flex": null,
      "flex_flow": null,
      "grid_area": null,
      "grid_auto_columns": null,
      "grid_auto_flow": null,
      "grid_auto_rows": null,
      "grid_column": null,
      "grid_gap": null,
      "grid_row": null,
      "grid_template_areas": null,
      "grid_template_columns": null,
      "grid_template_rows": null,
      "height": null,
      "justify_content": null,
      "justify_items": null,
      "left": null,
      "margin": null,
      "max_height": null,
      "max_width": null,
      "min_height": null,
      "min_width": null,
      "object_fit": null,
      "object_position": null,
      "order": null,
      "overflow": null,
      "overflow_x": null,
      "overflow_y": null,
      "padding": null,
      "right": null,
      "top": null,
      "visibility": null,
      "width": null
     }
    },
    "0427e4b60cdd4d299ff0bab8c8b99cc6": {
     "model_module": "@jupyter-widgets/base",
     "model_name": "LayoutModel",
     "state": {
      "_model_module": "@jupyter-widgets/base",
      "_model_module_version": "1.2.0",
      "_model_name": "LayoutModel",
      "_view_count": null,
      "_view_module": "@jupyter-widgets/base",
      "_view_module_version": "1.2.0",
      "_view_name": "LayoutView",
      "align_content": null,
      "align_items": null,
      "align_self": null,
      "border": null,
      "bottom": null,
      "display": null,
      "flex": null,
      "flex_flow": null,
      "grid_area": null,
      "grid_auto_columns": null,
      "grid_auto_flow": null,
      "grid_auto_rows": null,
      "grid_column": null,
      "grid_gap": null,
      "grid_row": null,
      "grid_template_areas": null,
      "grid_template_columns": null,
      "grid_template_rows": null,
      "height": null,
      "justify_content": null,
      "justify_items": null,
      "left": null,
      "margin": null,
      "max_height": null,
      "max_width": null,
      "min_height": null,
      "min_width": null,
      "object_fit": null,
      "object_position": null,
      "order": null,
      "overflow": null,
      "overflow_x": null,
      "overflow_y": null,
      "padding": null,
      "right": null,
      "top": null,
      "visibility": null,
      "width": null
     }
    },
    "0f967666cbd54064b5fa3a75befe666f": {
     "model_module": "@jupyter-widgets/output",
     "model_name": "OutputModel",
     "state": {
      "_dom_classes": [],
      "_model_module": "@jupyter-widgets/output",
      "_model_module_version": "1.0.0",
      "_model_name": "OutputModel",
      "_view_count": null,
      "_view_module": "@jupyter-widgets/output",
      "_view_module_version": "1.0.0",
      "_view_name": "OutputView",
      "layout": "IPY_MODEL_e891b7a223ca45199b062c6773cb8854",
      "msg_id": "",
      "outputs": [
       {
        "metadata": {
         "tags": []
        },
        "output_type": "stream",
        "stream": "stdout",
        "text": "2.5118864315095824e-09\n0.00630957344480193\nSVD with L2\n"
       }
      ]
     }
    },
    "262ba61c464646af80d3c2ea5d52c94f": {
     "model_module": "@jupyter-widgets/controls",
     "model_name": "DropdownModel",
     "state": {
      "_dom_classes": [],
      "_model_module": "@jupyter-widgets/controls",
      "_model_module_version": "1.5.0",
      "_model_name": "DropdownModel",
      "_options_labels": [
       "L1",
       "L2",
       "L1 + L2",
       "SVD with L2"
      ],
      "_view_count": null,
      "_view_module": "@jupyter-widgets/controls",
      "_view_module_version": "1.5.0",
      "_view_name": "DropdownView",
      "description": "testFunction",
      "description_tooltip": null,
      "disabled": false,
      "index": 3,
      "layout": "IPY_MODEL_7156371aba114014bcf7eb9ffc879837",
      "style": "IPY_MODEL_44491945d80542659ce507353a2a459c"
     }
    },
    "2ff6b26a2f744257a6493ea22e7f912d": {
     "model_module": "@jupyter-widgets/controls",
     "model_name": "FloatLogSliderModel",
     "state": {
      "_dom_classes": [],
      "_model_module": "@jupyter-widgets/controls",
      "_model_module_version": "1.5.0",
      "_model_name": "FloatLogSliderModel",
      "_view_count": null,
      "_view_module": "@jupyter-widgets/controls",
      "_view_module_version": "1.5.0",
      "_view_name": "FloatLogSliderView",
      "base": 10,
      "continuous_update": true,
      "description": "L2",
      "description_tooltip": null,
      "disabled": false,
      "layout": "IPY_MODEL_03c7aedcfd3941528d063db0888fe9af",
      "max": 0,
      "min": -12,
      "orientation": "horizontal",
      "readout": true,
      "readout_format": ".3g",
      "step": 0.2,
      "style": "IPY_MODEL_aee85e3954ab4fd9aacb70f5ec36e4fe",
      "value": 2.5118864315095824e-09
     }
    },
    "3aff477035e840ffafeb7f56bc23ab58": {
     "model_module": "@jupyter-widgets/controls",
     "model_name": "VBoxModel",
     "state": {
      "_dom_classes": [
       "widget-interact"
      ],
      "_model_module": "@jupyter-widgets/controls",
      "_model_module_version": "1.5.0",
      "_model_name": "VBoxModel",
      "_view_count": null,
      "_view_module": "@jupyter-widgets/controls",
      "_view_module_version": "1.5.0",
      "_view_name": "VBoxView",
      "box_style": "",
      "children": [
       "IPY_MODEL_f4d8a85b20d641578b74462aac426dc9",
       "IPY_MODEL_2ff6b26a2f744257a6493ea22e7f912d",
       "IPY_MODEL_262ba61c464646af80d3c2ea5d52c94f",
       "IPY_MODEL_0f967666cbd54064b5fa3a75befe666f"
      ],
      "layout": "IPY_MODEL_8fc06a24e56149d692e9ff49a9af5a72"
     }
    },
    "44491945d80542659ce507353a2a459c": {
     "model_module": "@jupyter-widgets/controls",
     "model_name": "DescriptionStyleModel",
     "state": {
      "_model_module": "@jupyter-widgets/controls",
      "_model_module_version": "1.5.0",
      "_model_name": "DescriptionStyleModel",
      "_view_count": null,
      "_view_module": "@jupyter-widgets/base",
      "_view_module_version": "1.2.0",
      "_view_name": "StyleView",
      "description_width": ""
     }
    },
    "7156371aba114014bcf7eb9ffc879837": {
     "model_module": "@jupyter-widgets/base",
     "model_name": "LayoutModel",
     "state": {
      "_model_module": "@jupyter-widgets/base",
      "_model_module_version": "1.2.0",
      "_model_name": "LayoutModel",
      "_view_count": null,
      "_view_module": "@jupyter-widgets/base",
      "_view_module_version": "1.2.0",
      "_view_name": "LayoutView",
      "align_content": null,
      "align_items": null,
      "align_self": null,
      "border": null,
      "bottom": null,
      "display": null,
      "flex": null,
      "flex_flow": null,
      "grid_area": null,
      "grid_auto_columns": null,
      "grid_auto_flow": null,
      "grid_auto_rows": null,
      "grid_column": null,
      "grid_gap": null,
      "grid_row": null,
      "grid_template_areas": null,
      "grid_template_columns": null,
      "grid_template_rows": null,
      "height": null,
      "justify_content": null,
      "justify_items": null,
      "left": null,
      "margin": null,
      "max_height": null,
      "max_width": null,
      "min_height": null,
      "min_width": null,
      "object_fit": null,
      "object_position": null,
      "order": null,
      "overflow": null,
      "overflow_x": null,
      "overflow_y": null,
      "padding": null,
      "right": null,
      "top": null,
      "visibility": null,
      "width": null
     }
    },
    "8fc06a24e56149d692e9ff49a9af5a72": {
     "model_module": "@jupyter-widgets/base",
     "model_name": "LayoutModel",
     "state": {
      "_model_module": "@jupyter-widgets/base",
      "_model_module_version": "1.2.0",
      "_model_name": "LayoutModel",
      "_view_count": null,
      "_view_module": "@jupyter-widgets/base",
      "_view_module_version": "1.2.0",
      "_view_name": "LayoutView",
      "align_content": null,
      "align_items": null,
      "align_self": null,
      "border": null,
      "bottom": null,
      "display": null,
      "flex": null,
      "flex_flow": null,
      "grid_area": null,
      "grid_auto_columns": null,
      "grid_auto_flow": null,
      "grid_auto_rows": null,
      "grid_column": null,
      "grid_gap": null,
      "grid_row": null,
      "grid_template_areas": null,
      "grid_template_columns": null,
      "grid_template_rows": null,
      "height": null,
      "justify_content": null,
      "justify_items": null,
      "left": null,
      "margin": null,
      "max_height": null,
      "max_width": null,
      "min_height": null,
      "min_width": null,
      "object_fit": null,
      "object_position": null,
      "order": null,
      "overflow": null,
      "overflow_x": null,
      "overflow_y": null,
      "padding": null,
      "right": null,
      "top": null,
      "visibility": null,
      "width": null
     }
    },
    "aee85e3954ab4fd9aacb70f5ec36e4fe": {
     "model_module": "@jupyter-widgets/controls",
     "model_name": "SliderStyleModel",
     "state": {
      "_model_module": "@jupyter-widgets/controls",
      "_model_module_version": "1.5.0",
      "_model_name": "SliderStyleModel",
      "_view_count": null,
      "_view_module": "@jupyter-widgets/base",
      "_view_module_version": "1.2.0",
      "_view_name": "StyleView",
      "description_width": "",
      "handle_color": null
     }
    },
    "e891b7a223ca45199b062c6773cb8854": {
     "model_module": "@jupyter-widgets/base",
     "model_name": "LayoutModel",
     "state": {
      "_model_module": "@jupyter-widgets/base",
      "_model_module_version": "1.2.0",
      "_model_name": "LayoutModel",
      "_view_count": null,
      "_view_module": "@jupyter-widgets/base",
      "_view_module_version": "1.2.0",
      "_view_name": "LayoutView",
      "align_content": null,
      "align_items": null,
      "align_self": null,
      "border": null,
      "bottom": null,
      "display": null,
      "flex": null,
      "flex_flow": null,
      "grid_area": null,
      "grid_auto_columns": null,
      "grid_auto_flow": null,
      "grid_auto_rows": null,
      "grid_column": null,
      "grid_gap": null,
      "grid_row": null,
      "grid_template_areas": null,
      "grid_template_columns": null,
      "grid_template_rows": null,
      "height": null,
      "justify_content": null,
      "justify_items": null,
      "left": null,
      "margin": null,
      "max_height": null,
      "max_width": null,
      "min_height": null,
      "min_width": null,
      "object_fit": null,
      "object_position": null,
      "order": null,
      "overflow": null,
      "overflow_x": null,
      "overflow_y": null,
      "padding": null,
      "right": null,
      "top": null,
      "visibility": null,
      "width": null
     }
    },
    "eb5a59b53e7f4b1b8bea08cb29e43329": {
     "model_module": "@jupyter-widgets/controls",
     "model_name": "SliderStyleModel",
     "state": {
      "_model_module": "@jupyter-widgets/controls",
      "_model_module_version": "1.5.0",
      "_model_name": "SliderStyleModel",
      "_view_count": null,
      "_view_module": "@jupyter-widgets/base",
      "_view_module_version": "1.2.0",
      "_view_name": "StyleView",
      "description_width": "",
      "handle_color": null
     }
    },
    "f4d8a85b20d641578b74462aac426dc9": {
     "model_module": "@jupyter-widgets/controls",
     "model_name": "FloatLogSliderModel",
     "state": {
      "_dom_classes": [],
      "_model_module": "@jupyter-widgets/controls",
      "_model_module_version": "1.5.0",
      "_model_name": "FloatLogSliderModel",
      "_view_count": null,
      "_view_module": "@jupyter-widgets/controls",
      "_view_module_version": "1.5.0",
      "_view_name": "FloatLogSliderView",
      "base": 10,
      "continuous_update": true,
      "description": "L1",
      "description_tooltip": null,
      "disabled": false,
      "layout": "IPY_MODEL_0427e4b60cdd4d299ff0bab8c8b99cc6",
      "max": 1,
      "min": -5,
      "orientation": "horizontal",
      "readout": true,
      "readout_format": ".3g",
      "step": 0.2,
      "style": "IPY_MODEL_eb5a59b53e7f4b1b8bea08cb29e43329",
      "value": 0.00630957344480193
     }
    }
   }
  }
 },
 "nbformat": 4,
 "nbformat_minor": 1
}
